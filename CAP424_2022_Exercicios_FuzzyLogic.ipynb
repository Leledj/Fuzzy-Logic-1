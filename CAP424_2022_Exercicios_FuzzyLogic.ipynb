{
  "cells": [
    {
      "cell_type": "markdown",
      "metadata": {
        "id": "view-in-github",
        "colab_type": "text"
      },
      "source": [
        "<a href=\"https://colab.research.google.com/github/lourencocavalcante/Fuzzy-Logic/blob/main/CAP424_2022_Exercicios_FuzzyLogic.ipynb\" target=\"_parent\"><img src=\"https://colab.research.google.com/assets/colab-badge.svg\" alt=\"Open In Colab\"/></a>"
      ]
    },
    {
      "cell_type": "markdown",
      "metadata": {
        "id": "OCGrfcaNk9Ju"
      },
      "source": [
        "[<img src=\"https://github.com/lourencocavalcante/LogosINPE/blob/main/logoinpe.png?raw=true\" width = 500 align=\"left\">](https://www.gov.br/inpe/pt-br)\n",
        "\n",
        "[<img src=\"https://github.com/lourencocavalcante/LogosINPE/blob/main/LogoCAP.png?raw=true\" width = 300 align=\"right\">](http://www.inpe.br/posgraduacao/cap/)"
      ]
    },
    {
      "cell_type": "markdown",
      "metadata": {
        "id": "ect6m7UiI28E"
      },
      "source": [
        "# <span style=\"color:#336699; text-align: center;\">Trabalho Final da disciplina de Lógica Nebulosa (CAP-424)</span>\n",
        "<hr style=\"border:2px solid #0077b9;\">\n",
        "\n",
        "<br/>\n",
        "\n",
        "<div style=\"text-align: center;font-size: 110%;\">\n",
        "    <b>CAP-424 – Lógica Nebulosa (Fuzzy Logic)</b>\n",
        "    <br/>\n",
        "    <b>Docente:</b> Dr. Lamartine Nogueira Frutuoso Guimarães\n",
        "    <br/><br/>\n",
        "    <b>Discente:</b> Lourenço José Cavalcante Neto\n",
        "    <br/>\n",
        "    <b>E-mail:</b> <a href=\"mailto:lourenco.cavalcante@ifto.edu.b\">lourenco.cavalcante@ifto.edu.br</a>\n",
        "\n",
        "</div>\n",
        "\n",
        "<br/>\n",
        "\n",
        "<div style=\"text-align: justify;  margin-left: 20%; margin-right: 20%;\">\n",
        "<b>Objetivo: </b> O principal objetivo deste caderno notebook é apresentar as questões propostas pelo professor em torno das discussões ocorridas durante a disciplina de Lógica Nebulosa (CAP-424) e suas respectivas soluções, como trabalho final da disciplina. O livro adotado pelo professor foi \"Fuzzy and Neural Approaches in Engineering (1st. ed.)\" de autoria de Tsoukalas e Robert E. Uhrig.\n",
        "</div>"
      ]
    },
    {
      "cell_type": "markdown",
      "metadata": {
        "id": "nFcD5Gx3Vuyz"
      },
      "source": [
        "<span style=\"text-align: center;\"> Este caderno notebook também pode ser visualizado no meu diretório de materiais e atividades da disciplina **CAP-324** no **Github**,  [Clicando aqui](https://github.com/lourencocavalcante/Fuzzy-Logic.git) </span>"
      ]
    },
    {
      "cell_type": "markdown",
      "source": [
        "# **Lógica Nebulosa (Fuzzy Logic)**"
      ],
      "metadata": {
        "id": "66PyRnagA772"
      }
    },
    {
      "cell_type": "markdown",
      "metadata": {
        "id": "7Okfq4RbVmXD"
      },
      "source": [
        "Na lógica convencional (binária), um elemento pertence ou não pertence a um determinado conjunto, e nunca se encontra entre estes dois estados possíveis. Esta é uma maneira de simplificar um mundo inerentemente complexo, mas - argumentam os defensores da lógica nebulosa - esta simplificação acaba por distorcer a realidade (GRINT, 1997). A lógica nebulosa é um método que permite expressar incertezas de maneira mais consistente, através dos conjuntos nebulosos: ao invés de simplesmente pertencer ou não pertencer, um elemento poderá ter vários graus de pertinência a um conjunto. \n",
        "\n",
        "O conceito de lógica nebulosa (fuzzy logic ou LN) foi introduzido por Lotfi Zadeh em 1965, como uma forma de reduzir e explicar a complexidade de sistemas (Cox, 1998). Esta idéia permaneceu praticamente desconhecida pelo grande público até o final da década de 1980, quando o metrô de Sendai adotou um sistema baseado na LN - o Automatic Train Operator (ATO) - e surgiram várias empresas que tinham o objetivo de desenvolver e comercializar produtos baseados nesta tecnologia. Apesar de o interesse comercial haver arrefecido, hoje é possível encontrar aplicações da lógica nebulosa em áreas bem diferentes daquela em que surgiu\n",
        "\n",
        "Os conjuntos nebulosos (fuzzy sets) são funções que mapeiam, em uma escala de zero a um, esta pertinência de um determinado elemento ao conjunto. O valor zero indica que o elemento não pertence ao conjunto, enquanto o valor um significa que o elemento é completamente representativo do conjunto; valores entre estes dois indicam graus intermediários de pertinência.\n",
        "\n",
        "Com conjuntos nebulosos é possível realizar várias operações - as básicas são interseção, união e complemento - e, com regras de inferência (policies), criar modelos que auxiliem na tomada de decisão."
      ]
    },
    {
      "cell_type": "markdown",
      "metadata": {
        "id": "-IUoRbDBTZZj"
      },
      "source": [
        "# **Chapter 2 problems**\n"
      ]
    },
    {
      "cell_type": "markdown",
      "source": [
        "## **Problem 5**\n",
        "\n",
        "<img src=\"https://github.com/lourencocavalcante/Fuzzy-Logic/blob/90c9f4ea04cee22074c3e8d8f5678eb7965bc230/Questions/2chapter-problem5.PNG?raw=true\" width = 600 align=\"left\">"
      ],
      "metadata": {
        "id": "3AiZIbZ8OJFb"
      }
    },
    {
      "cell_type": "markdown",
      "source": [
        "## **Problem 6**\n",
        "\n",
        "<img src=\"https://github.com/lourencocavalcante/Fuzzy-Logic/blob/90c9f4ea04cee22074c3e8d8f5678eb7965bc230/Questions/2chapter-problem6.PNG?raw=true\" width = 600 align=\"left\">"
      ],
      "metadata": {
        "id": "ie7_2zIQOd-0"
      }
    },
    {
      "cell_type": "markdown",
      "source": [
        "## **Problem 7**\n",
        "\n",
        "<img src=\"https://github.com/lourencocavalcante/Fuzzy-Logic/blob/90c9f4ea04cee22074c3e8d8f5678eb7965bc230/Questions/2chapter-problem7.PNG?raw=true\" width = 600 align=\"left\">"
      ],
      "metadata": {
        "id": "PsVvElhTOg-z"
      }
    },
    {
      "cell_type": "markdown",
      "source": [
        "## **Problem 8**\n",
        "\n",
        "<img src=\"https://github.com/lourencocavalcante/Fuzzy-Logic/blob/90c9f4ea04cee22074c3e8d8f5678eb7965bc230/Questions/2chapter-problem8.PNG?raw=true\" width = 600 align=\"left\">"
      ],
      "metadata": {
        "id": "bNSPUeWsOkp7"
      }
    },
    {
      "cell_type": "markdown",
      "source": [
        "## **Problem 9**\n",
        "\n",
        "<img src=\"https://github.com/lourencocavalcante/Fuzzy-Logic/blob/90c9f4ea04cee22074c3e8d8f5678eb7965bc230/Questions/2chapter-problem9.PNG?raw=true\" width = 600 align=\"left\">"
      ],
      "metadata": {
        "id": "Iw--Y5JeO2T1"
      }
    },
    {
      "cell_type": "markdown",
      "source": [
        "## **Problem 11**\n",
        "\n",
        "<img src=\"https://github.com/lourencocavalcante/Fuzzy-Logic/blob/90c9f4ea04cee22074c3e8d8f5678eb7965bc230/Questions/2chapter-problem11.PNG?raw=true\" width = 600 align=\"left\">"
      ],
      "metadata": {
        "id": "Ij1CLkVaO6hk"
      }
    },
    {
      "cell_type": "markdown",
      "source": [
        "# **Chapter 3 problems**"
      ],
      "metadata": {
        "id": "IbmV9RPxM7F0"
      }
    },
    {
      "cell_type": "markdown",
      "source": [
        "<img src=\"https://github.com/lourencocavalcante/Fuzzy-Logic/blob/90c9f4ea04cee22074c3e8d8f5678eb7965bc230/Questions/3chapter-problem1.PNG?raw=true\" width = 650 align=\"left\">\n"
      ],
      "metadata": {
        "id": "xGj6L240Nu0r"
      }
    },
    {
      "cell_type": "code",
      "source": [],
      "metadata": {
        "id": "pO0VNMhaNIIj"
      },
      "execution_count": null,
      "outputs": []
    },
    {
      "cell_type": "code",
      "source": [],
      "metadata": {
        "id": "H49KxjFdNH6r"
      },
      "execution_count": null,
      "outputs": []
    },
    {
      "cell_type": "markdown",
      "metadata": {
        "id": "33jPwgUyd9iL"
      },
      "source": [
        "# **Referências**\n",
        "\n",
        "1. Grint, K. (1997). Fuzzy management: contemporary ideas and practices at work New York: Oxford.\n",
        "\n",
        "2. Lefteri H. Tsoukalas and Robert E. Uhrig. 1996. Fuzzy and Neural Approaches in Engineering (1st. ed.). John Wiley &amp; Sons, Inc., USA.\n",
        "\n",
        "3. Wuerges, Artur Filipe Ewald e Borba, José AlonsoRedes neurais, lógica nebulosa e algoritmos genéticos: aplicações e possibilidades em finanças e contabilidade. JISTEM - Journal of Information Systems and Technology Management [online]. 2010, v. 7, n. 1 [Acessado 9 Novembro 2022] , pp. 163-182. Disponível em: <https://doi.org/10.4301/S1807-17752010000100007>. Epub 22 Nov 2010. ISSN 1807-1775. https://doi.org/10.4301/S1807-17752010000100007."
      ]
    }
  ],
  "metadata": {
    "accelerator": "GPU",
    "colab": {
      "provenance": [],
      "machine_shape": "hm",
      "collapsed_sections": [],
      "include_colab_link": true
    },
    "gpuClass": "standard",
    "kernelspec": {
      "display_name": "Python 3",
      "name": "python3"
    },
    "language_info": {
      "name": "python"
    }
  },
  "nbformat": 4,
  "nbformat_minor": 0
}